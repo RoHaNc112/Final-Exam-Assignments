{
 "cells": [
  {
   "cell_type": "markdown",
   "metadata": {},
   "source": [
    "Before you turn this problem in, make sure everything runs as expected. First, **restart the kernel** (in the menubar, select Kernel$\\rightarrow$Restart) and then **run all cells** (in the menubar, select Cell$\\rightarrow$Run All).\n",
    "\n",
    "Make sure you fill in any place that says `YOUR CODE HERE` or \"YOUR ANSWER HERE\", as well as your name and collaborators below:"
   ]
  },
  {
   "cell_type": "code",
   "execution_count": 2,
   "metadata": {},
   "outputs": [],
   "source": [
    "NAME = \"Rohan Chatterjee,ANR: 909910, SNR: 2008264 \"\n",
    "COLLABORATORS = \"Aram Klijn,ANR: 359342, SNR: 1279660 \""
   ]
  },
  {
   "cell_type": "markdown",
   "metadata": {},
   "source": [
    "---"
   ]
  },
  {
   "cell_type": "markdown",
   "metadata": {},
   "source": [
    "Fill in the cell above to provide us with your name and student number, like\n",
    "\n",
    "NAME = \"Adam Smith, #student number#\"\n",
    "\n",
    "where you replace \"#student number#\" with your ... (very good!)\n",
    "\n",
    "and if you are doing this with someone else (not more than one other person):\n",
    "\n",
    "COLLABORATORS = \"Karl Marx, #student number#\""
   ]
  },
  {
   "cell_type": "markdown",
   "metadata": {
    "deletable": false,
    "editable": false,
    "nbgrader": {
     "checksum": "a7ae5c69becf064d614c6c38935eca51",
     "grade": false,
     "grade_id": "cell-895e9a7b94992ec9",
     "locked": true,
     "schema_version": 1,
     "solution": false
    }
   },
   "source": [
    "# exam June 7th, 2018\n"
   ]
  },
  {
   "cell_type": "markdown",
   "metadata": {
    "deletable": false,
    "editable": false,
    "nbgrader": {
     "checksum": "bc48d165f54aa364aa34509649fcdef5",
     "grade": false,
     "grade_id": "cell-540987818af25557",
     "locked": true,
     "schema_version": 1,
     "solution": false
    }
   },
   "source": [
    "\n",
    "In the first cell of the notebook, give us your name and student number in the way indicated above. If you do this notebook with --at max.-- one other student, give her/his name and student number as well under \"COLLABORATORS\".\n",
    "\n",
    "Fill in the notebook (see below for code cells and text cells that you need to fill in).\n",
    "\n",
    "If you look at the menus above (File, Edit, View etc.), there is one called \"Cell\". If you click on this, you can change the \"Cell Type\". Choose \"Code\" when you are typing python or R code. Choose \"Markdown\" when you are typing, well, markdown.\n",
    "\n",
    "When you finish the notebook, make sure that you **save it with the output of your code included**. \n",
    "\n",
    "Then put it on github, e.g. by dragging it onto github (see instructions below). \n",
    "\n",
    "Finally, add a link to your README file with the name of this exam: \"Exam June 7, 2018\".\n",
    "\n"
   ]
  },
  {
   "cell_type": "markdown",
   "metadata": {
    "deletable": false,
    "editable": false,
    "nbgrader": {
     "checksum": "6fad9bed312da1b0097e9c520b18e3fb",
     "grade": false,
     "grade_id": "cell-e1cf88cb799f1f43",
     "locked": true,
     "schema_version": 1,
     "solution": false
    }
   },
   "source": [
    "## price effects of mergers\n",
    "\n",
    "We consider a merger in this notebook. \n",
    "\n",
    "First we calculate the equilibrium with three firms, denoted by 1, 2 and 3. Then firms 2 and 3 merge so that we are left with 2 firms; denoted by 1 and 2.\n",
    "\n",
    "We calculate the effects of the merger on the equilibrium price.\n",
    "\n",
    "We start by importing the usual libraries."
   ]
  },
  {
   "cell_type": "code",
   "execution_count": 3,
   "metadata": {
    "deletable": false,
    "editable": false,
    "nbgrader": {
     "checksum": "7bd770ef54db47c3b6c8d0e31f6baef6",
     "grade": false,
     "grade_id": "cell-b895769bf40e183a",
     "locked": true,
     "schema_version": 1,
     "solution": false
    }
   },
   "outputs": [],
   "source": [
    "import matplotlib.pyplot as plt\n",
    "import pandas as pd\n",
    "import numpy as np\n",
    "from scipy import optimize\n",
    "%matplotlib inline"
   ]
  },
  {
   "cell_type": "markdown",
   "metadata": {},
   "source": [
    "The following code helps to calculate the equilibrium for the case with 3 firms. Note that you have seen similar code during the tutorials to calculate the equilibrium with 2 firms.\n",
    "\n",
    "We assume that before the merger each firm has constant marginal costs equal to 0.3. We assume a simple linear (inverse) demand curve of the form $p=1-Q$ where $p$ denotes price and $Q$ total output on the market. Total output equals the sum of each firm's output: $Q= q_1 + q_2+q_3$."
   ]
  },
  {
   "cell_type": "code",
   "execution_count": 4,
   "metadata": {
    "deletable": false,
    "editable": false,
    "nbgrader": {
     "checksum": "3e30f7ac9d9155ef089b8ca56a0c0436",
     "grade": false,
     "grade_id": "cell-f97a25efed556fd2",
     "locked": true,
     "schema_version": 1,
     "solution": false
    }
   },
   "outputs": [],
   "source": [
    "c0 = 0.3\n",
    "vector_c = [c0]*3\n",
    "\n",
    "def p(Q):\n",
    "    return 1 - Q\n",
    "\n",
    "def costs(q,c):\n",
    "    return c*q\n",
    "\n",
    "def profits(q,Q_other,c):\n",
    "    return p(q+Q_other)*q-costs(q,c)\n",
    "\n",
    "def reaction(Q_other,c):\n",
    "    q1 =  optimize.fminbound(lambda x: -profits(x,Q_other,c),0,1,full_output=1)\n",
    "    return q1[0]\n",
    "\n",
    "def fixed_point_three_firms(vector_q,vector_c):\n",
    "    return [vector_q[0]-reaction(vector_q[1]+vector_q[2],vector_c[0]),\n",
    "            vector_q[1]-reaction(vector_q[0]+vector_q[2],vector_c[1]),\n",
    "            vector_q[2]-reaction(vector_q[0]+vector_q[1],vector_c[2])]\n",
    "\n"
   ]
  },
  {
   "cell_type": "markdown",
   "metadata": {
    "deletable": false,
    "editable": false,
    "nbgrader": {
     "checksum": "f6ea3b2416aca7293a5450c45865f242",
     "grade": false,
     "grade_id": "cell-83284c4090d6de8c",
     "locked": true,
     "schema_version": 1,
     "solution": false
    }
   },
   "source": [
    "#### a) [0.5 points] Show that total equilibrium output equals  0.525. Derive the equilibrium price and Herfindahl index; denote these by `P0` and `H0` resp."
   ]
  },
  {
   "cell_type": "code",
   "execution_count": 5,
   "metadata": {
    "deletable": false,
    "nbgrader": {
     "checksum": "a06d73c35395adb00480733b458cb4a5",
     "grade": true,
     "grade_id": "cell-3b8ee172d9950128",
     "locked": false,
     "points": 0.5,
     "schema_version": 1,
     "solution": true
    }
   },
   "outputs": [
    {
     "name": "stdout",
     "output_type": "stream",
     "text": [
      "0.3333333333333333\n",
      "0.475\n",
      "0.525\n"
     ]
    }
   ],
   "source": [
    "initial_guess3=[0,0,0]\n",
    "r=optimize.fsolve(lambda q: fixed_point_three_firms(q,[0.3,0.3,0.3]), initial_guess3)\n",
    "q1=r[0]\n",
    "q2=r[1]\n",
    "q3=r[2]\n",
    "Q=q1+q2+q3\n",
    "H0=(q1/Q)**2+(q2/Q)**2+(q3/Q)**2\n",
    "print(H0)\n",
    "P0=1-Q\n",
    "print(P0)\n",
    "print(Q)\n"
   ]
  },
  {
   "cell_type": "markdown",
   "metadata": {
    "deletable": false,
    "editable": false,
    "nbgrader": {
     "checksum": "87b3b3e0e2d645c280e279312e489dc4",
     "grade": false,
     "grade_id": "cell-4b33762aa4a601fe",
     "locked": true,
     "schema_version": 1,
     "solution": false
    }
   },
   "source": [
    "#### b) [0.5 point] Define a function `fixed_point_two_firms` with the same structure as the function `fixed_point_three_firms` above, except that it derives the equilibrium output levels for a duopoly (two firms). Test this function by showing that each of the two firms produces 0.3333 in case both firms have zero costs."
   ]
  },
  {
   "cell_type": "code",
   "execution_count": 6,
   "metadata": {
    "deletable": false,
    "nbgrader": {
     "checksum": "024a1519155d681b57c85292df535a65",
     "grade": true,
     "grade_id": "cell-5ee215676b91f504",
     "locked": false,
     "points": 0.5,
     "schema_version": 1,
     "solution": true
    }
   },
   "outputs": [
    {
     "name": "stdout",
     "output_type": "stream",
     "text": [
      "[0.33333333 0.33333333]\n"
     ]
    }
   ],
   "source": [
    "initial_guess=[0,0]\n",
    "def fixed_point_two_firms(vector_q,vector_c):\n",
    "    return [vector_q[0]-reaction(vector_q[1],vector_c[0]),\n",
    "            vector_q[1]-reaction(vector_q[0],vector_c[1])]\n",
    "r_2=optimize.fsolve(lambda q: fixed_point_two_firms(q,[0,0]), initial_guess)\n",
    "print(r_2)"
   ]
  },
  {
   "cell_type": "markdown",
   "metadata": {
    "deletable": false,
    "editable": false,
    "nbgrader": {
     "checksum": "5291fc8716e367572fde17ebe5844d2f",
     "grade": false,
     "grade_id": "cell-c2fada02efd7b197",
     "locked": true,
     "schema_version": 1,
     "solution": false
    }
   },
   "source": [
    "The Dutch competition authority, ACM, is asked to evaluate the effects of a merger between firms 2 and 3. Firms 2 and 3 claim that by merging they can reduce their constant marginal costs. But it is not clear by how much they will reduce their costs.\n",
    "\n",
    "The ACM assumes that the marginal cost level of the merged firm is uniformly distributed between 0 and the current marginal cost level `c0`. The merger will not affect the marginal cost level of firm 1 who does not merge. Firm 1's cost level remains `c0`.\n",
    "\n",
    "The next cell generates a vector of cost levels for the merged firm, denoted `c_after_merger`. Evaluate \"c_after_merger\" in a separate cell if you do not understand the command that defines it.\n",
    "\n",
    "Then it calculates the equilibrium output levels for (the non-merging) firm 1 and (the merged) firm 2.\n",
    "\n",
    "Note that you need to specify `initial_guess`.\n"
   ]
  },
  {
   "cell_type": "code",
   "execution_count": 7,
   "metadata": {
    "deletable": false,
    "editable": false,
    "nbgrader": {
     "checksum": "11299317cd53e31de9900700999b0324",
     "grade": false,
     "grade_id": "cell-ce91ab3e3225c57d",
     "locked": true,
     "schema_version": 1,
     "solution": false
    }
   },
   "outputs": [],
   "source": [
    "c_after_merger = np.random.uniform(0,c0,size = 100)\n",
    "\n",
    "q1_after_merger = [optimize.fsolve(lambda q: fixed_point_two_firms(q,[c0,c]), initial_guess)[0] for c in c_after_merger]\n",
    "q2_after_merger = [optimize.fsolve(lambda q: fixed_point_two_firms(q,[c0,c]), initial_guess)[1] for c in c_after_merger]\n",
    "\n",
    "\n"
   ]
  },
  {
   "cell_type": "markdown",
   "metadata": {
    "deletable": false,
    "editable": false,
    "nbgrader": {
     "checksum": "2b518306d6ff20ee42d0bc3085333095",
     "grade": false,
     "grade_id": "cell-0acc18b4f07a09f4",
     "locked": true,
     "schema_version": 1,
     "solution": false
    }
   },
   "source": [
    "#### c) [0.5 points] Create a dataframe called `df_after_merger` with three columns: `c_merged_firm`, `output_non_merging_firm`, `output_merged_firm` containing resp. the cost level of the merged firm, the output level of firm 1 and the output level of firm 2."
   ]
  },
  {
   "cell_type": "code",
   "execution_count": 8,
   "metadata": {
    "deletable": false,
    "nbgrader": {
     "checksum": "f4fc6a3bdef91fa3f656ccd3290c9f54",
     "grade": true,
     "grade_id": "cell-f3eacda828774f2d",
     "locked": false,
     "points": 0.5,
     "schema_version": 1,
     "solution": true
    }
   },
   "outputs": [
    {
     "name": "stdout",
     "output_type": "stream",
     "text": [
      "    c_merged_firm  output_merged_firm  output_non_merging_firm\n",
      "0        0.140050            0.339967                 0.180017\n",
      "1        0.069206            0.387196                 0.156402\n",
      "2        0.046043            0.402638                 0.148681\n",
      "3        0.104610            0.363594                 0.168203\n",
      "4        0.231341            0.279106                 0.210447\n",
      "5        0.043328            0.404448                 0.147776\n",
      "6        0.280847            0.246102                 0.226949\n",
      "7        0.169875            0.320083                 0.189958\n",
      "8        0.248925            0.267383                 0.216308\n",
      "9        0.282316            0.245123                 0.227439\n",
      "10       0.180421            0.313053                 0.193474\n",
      "11       0.002450            0.431700                 0.134150\n",
      "12       0.011049            0.425968                 0.137016\n",
      "13       0.043184            0.404544                 0.147728\n",
      "14       0.225065            0.283290                 0.208355\n",
      "15       0.015886            0.422743                 0.138629\n",
      "16       0.179058            0.313961                 0.193019\n",
      "17       0.177574            0.314951                 0.192525\n",
      "18       0.276081            0.249279                 0.225360\n",
      "19       0.281125            0.245917                 0.227042\n",
      "20       0.036946            0.408703                 0.145649\n",
      "21       0.150221            0.333186                 0.183407\n",
      "22       0.092092            0.371938                 0.164031\n",
      "23       0.229532            0.280312                 0.209844\n",
      "24       0.254125            0.263916                 0.218042\n",
      "25       0.071850            0.385433                 0.157283\n",
      "26       0.071860            0.385427                 0.157287\n",
      "27       0.040013            0.406658                 0.146671\n",
      "28       0.190123            0.306585                 0.196708\n",
      "29       0.218905            0.287397                 0.206302\n",
      "..            ...                 ...                      ...\n",
      "70       0.157789            0.328140                 0.185930\n",
      "71       0.193963            0.304025                 0.197988\n",
      "72       0.051554            0.398964                 0.150518\n",
      "73       0.098639            0.367574                 0.166213\n",
      "74       0.194550            0.303633                 0.198183\n",
      "75       0.135640            0.342906                 0.178547\n",
      "76       0.185552            0.309632                 0.195184\n",
      "77       0.009137            0.427242                 0.136379\n",
      "78       0.199626            0.300249                 0.199875\n",
      "79       0.071404            0.385731                 0.157135\n",
      "80       0.181491            0.312339                 0.193830\n",
      "81       0.035322            0.409785                 0.145107\n",
      "82       0.063880            0.390747                 0.154627\n",
      "83       0.197986            0.301343                 0.199329\n",
      "84       0.090855            0.372763                 0.163618\n",
      "85       0.229264            0.280491                 0.209755\n",
      "86       0.290041            0.239973                 0.230014\n",
      "87       0.248301            0.267800                 0.216100\n",
      "88       0.122771            0.351486                 0.174257\n",
      "89       0.272776            0.251482                 0.224259\n",
      "90       0.130913            0.346058                 0.176971\n",
      "91       0.287550            0.241633                 0.229183\n",
      "92       0.234976            0.276683                 0.211659\n",
      "93       0.193560            0.304293                 0.197853\n",
      "94       0.268344            0.254437                 0.222781\n",
      "95       0.095075            0.369950                 0.165025\n",
      "96       0.259100            0.260600                 0.219700\n",
      "97       0.030255            0.413164                 0.143418\n",
      "98       0.233160            0.277893                 0.211053\n",
      "99       0.144473            0.337018                 0.181491\n",
      "\n",
      "[100 rows x 3 columns]\n"
     ]
    }
   ],
   "source": [
    "columns = {'c_merged_firm':c_after_merger, 'output_non_merging_firm':q1_after_merger,'output_merged_firm':q2_after_merger}\n",
    "df_after_merger = pd.DataFrame(data=columns)\n",
    "print(df_after_merger)"
   ]
  },
  {
   "cell_type": "markdown",
   "metadata": {
    "deletable": false,
    "editable": false,
    "nbgrader": {
     "checksum": "a5bf4171960844da9c57375d83b6eedf",
     "grade": false,
     "grade_id": "cell-7ad058be42e19df8",
     "locked": true,
     "schema_version": 1,
     "solution": false
    }
   },
   "source": [
    "#### d) [0.5 points] Add three columns to the dataframe with resp. total equilibrium output on the market, `Q`, equilibrium price, `P` and the Herfindahl index, `H`."
   ]
  },
  {
   "cell_type": "code",
   "execution_count": 9,
   "metadata": {
    "deletable": false,
    "nbgrader": {
     "checksum": "ab6179623b39a6ae634abea45326e4ab",
     "grade": true,
     "grade_id": "cell-9c39b11747803ca1",
     "locked": false,
     "points": 0.5,
     "schema_version": 1,
     "solution": true
    }
   },
   "outputs": [
    {
     "name": "stdout",
     "output_type": "stream",
     "text": [
      "    c_merged_firm  output_merged_firm  output_non_merging_firm         Q  \\\n",
      "0        0.140050            0.339967                 0.180017  0.519983   \n",
      "1        0.069206            0.387196                 0.156402  0.543598   \n",
      "2        0.046043            0.402638                 0.148681  0.551319   \n",
      "3        0.104610            0.363594                 0.168203  0.531797   \n",
      "4        0.231341            0.279106                 0.210447  0.489553   \n",
      "5        0.043328            0.404448                 0.147776  0.552224   \n",
      "6        0.280847            0.246102                 0.226949  0.473051   \n",
      "7        0.169875            0.320083                 0.189958  0.510042   \n",
      "8        0.248925            0.267383                 0.216308  0.483692   \n",
      "9        0.282316            0.245123                 0.227439  0.472561   \n",
      "10       0.180421            0.313053                 0.193474  0.506526   \n",
      "11       0.002450            0.431700                 0.134150  0.565850   \n",
      "12       0.011049            0.425968                 0.137016  0.562984   \n",
      "13       0.043184            0.404544                 0.147728  0.552272   \n",
      "14       0.225065            0.283290                 0.208355  0.491645   \n",
      "15       0.015886            0.422743                 0.138629  0.561371   \n",
      "16       0.179058            0.313961                 0.193019  0.506981   \n",
      "17       0.177574            0.314951                 0.192525  0.507475   \n",
      "18       0.276081            0.249279                 0.225360  0.474640   \n",
      "19       0.281125            0.245917                 0.227042  0.472958   \n",
      "20       0.036946            0.408703                 0.145649  0.554351   \n",
      "21       0.150221            0.333186                 0.183407  0.516593   \n",
      "22       0.092092            0.371938                 0.164031  0.535969   \n",
      "23       0.229532            0.280312                 0.209844  0.490156   \n",
      "24       0.254125            0.263916                 0.218042  0.481958   \n",
      "25       0.071850            0.385433                 0.157283  0.542717   \n",
      "26       0.071860            0.385427                 0.157287  0.542713   \n",
      "27       0.040013            0.406658                 0.146671  0.553329   \n",
      "28       0.190123            0.306585                 0.196708  0.503292   \n",
      "29       0.218905            0.287397                 0.206302  0.493698   \n",
      "..            ...                 ...                      ...       ...   \n",
      "70       0.157789            0.328140                 0.185930  0.514070   \n",
      "71       0.193963            0.304025                 0.197988  0.502012   \n",
      "72       0.051554            0.398964                 0.150518  0.549482   \n",
      "73       0.098639            0.367574                 0.166213  0.533787   \n",
      "74       0.194550            0.303633                 0.198183  0.501817   \n",
      "75       0.135640            0.342906                 0.178547  0.521453   \n",
      "76       0.185552            0.309632                 0.195184  0.504816   \n",
      "77       0.009137            0.427242                 0.136379  0.563621   \n",
      "78       0.199626            0.300249                 0.199875  0.500125   \n",
      "79       0.071404            0.385731                 0.157135  0.542865   \n",
      "80       0.181491            0.312339                 0.193830  0.506170   \n",
      "81       0.035322            0.409785                 0.145107  0.554893   \n",
      "82       0.063880            0.390747                 0.154627  0.545373   \n",
      "83       0.197986            0.301343                 0.199329  0.500671   \n",
      "84       0.090855            0.372763                 0.163618  0.536382   \n",
      "85       0.229264            0.280491                 0.209755  0.490245   \n",
      "86       0.290041            0.239973                 0.230014  0.469986   \n",
      "87       0.248301            0.267800                 0.216100  0.483900   \n",
      "88       0.122771            0.351486                 0.174257  0.525743   \n",
      "89       0.272776            0.251482                 0.224259  0.475741   \n",
      "90       0.130913            0.346058                 0.176971  0.523029   \n",
      "91       0.287550            0.241633                 0.229183  0.470817   \n",
      "92       0.234976            0.276683                 0.211659  0.488341   \n",
      "93       0.193560            0.304293                 0.197853  0.502147   \n",
      "94       0.268344            0.254437                 0.222781  0.477219   \n",
      "95       0.095075            0.369950                 0.165025  0.534975   \n",
      "96       0.259100            0.260600                 0.219700  0.480300   \n",
      "97       0.030255            0.413164                 0.143418  0.556582   \n",
      "98       0.233160            0.277893                 0.211053  0.488947   \n",
      "99       0.144473            0.337018                 0.181491  0.518509   \n",
      "\n",
      "           P         H  \n",
      "0   0.480017  0.773655  \n",
      "1   0.456402  0.795064  \n",
      "2   0.448681  0.803046  \n",
      "3   0.468203  0.783749  \n",
      "4   0.510447  0.754917  \n",
      "5   0.447776  0.804009  \n",
      "6   0.526949  0.750410  \n",
      "7   0.489958  0.766272  \n",
      "8   0.516308  0.752788  \n",
      "9   0.527439  0.750350  \n",
      "10  0.493474  0.763933  \n",
      "11  0.434150  0.819128  \n",
      "12  0.437016  0.815856  \n",
      "13  0.447728  0.804060  \n",
      "14  0.508355  0.755808  \n",
      "15  0.438629  0.814036  \n",
      "16  0.493019  0.764227  \n",
      "17  0.492525  0.764550  \n",
      "18  0.525360  0.750635  \n",
      "19  0.527042  0.750398  \n",
      "20  0.445649  0.806294  \n",
      "21  0.483407  0.771016  \n",
      "22  0.464031  0.787618  \n",
      "23  0.509844  0.755167  \n",
      "24  0.518042  0.752265  \n",
      "25  0.457283  0.794181  \n",
      "26  0.457287  0.794178  \n",
      "27  0.446671  0.805192  \n",
      "28  0.496708  0.761916  \n",
      "29  0.506302  0.756745  \n",
      "..       ...       ...  \n",
      "70  0.485930  0.769132  \n",
      "71  0.497988  0.761154  \n",
      "72  0.450518  0.801109  \n",
      "73  0.466213  0.785576  \n",
      "74  0.498183  0.761039  \n",
      "75  0.478547  0.774837  \n",
      "76  0.495184  0.762850  \n",
      "77  0.436379  0.816580  \n",
      "78  0.499875  0.760070  \n",
      "79  0.457135  0.794330  \n",
      "80  0.493830  0.763704  \n",
      "81  0.445107  0.806880  \n",
      "82  0.454627  0.796862  \n",
      "83  0.499329  0.760379  \n",
      "84  0.463618  0.788009  \n",
      "85  0.509755  0.755205  \n",
      "86  0.530014  0.750112  \n",
      "87  0.516100  0.752854  \n",
      "88  0.474257  0.778409  \n",
      "89  0.524259  0.750819  \n",
      "90  0.476971  0.776128  \n",
      "91  0.529183  0.750175  \n",
      "92  0.511659  0.754432  \n",
      "93  0.497853  0.761233  \n",
      "94  0.522781  0.751100  \n",
      "95  0.465025  0.786683  \n",
      "96  0.519700  0.751813  \n",
      "97  0.443418  0.808721  \n",
      "98  0.511053  0.754672  \n",
      "99  0.481491  0.772493  \n",
      "\n",
      "[100 rows x 6 columns]\n"
     ]
    },
    {
     "name": "stderr",
     "output_type": "stream",
     "text": [
      "C:\\Users\\rohan\\Anaconda3\\lib\\site-packages\\pandas\\core\\frame.py:5175: RuntimeWarning: '<' not supported between instances of 'str' and 'int', sort order is undefined for incomparable objects\n",
      "  other.index).difference(self.columns).tolist()\n"
     ]
    }
   ],
   "source": [
    "\n",
    "df_after_merger['Q']=df_after_merger['output_merged_firm']+df_after_merger['output_non_merging_firm']\n",
    "df_after_merger.append(df_after_merger['Q'])\n",
    "df_after_merger['P']=[1]-df_after_merger['Q']\n",
    "df_after_merger.append(df_after_merger['P'])\n",
    "df_after_merger['H']=(df_after_merger['output_merged_firm']/df_after_merger['Q'])**2+(df_after_merger['output_non_merging_firm']/df_after_merger['Q'])\n",
    "df_after_merger.append(df_after_merger['H'])\n",
    "print(df_after_merger)"
   ]
  },
  {
   "cell_type": "markdown",
   "metadata": {},
   "source": [
    "#### e) [0.5 points] Make a histogram of the equilibrium price `P` after the merger. Also indicate in the histogram the equilibrium price before the merger `P0`. Label the horizontal axis with $P$.\n",
    "\n",
    "[hint: you may want to use matplotlib's `hist`, `vlines` and `legend` to make this graph (e.g use google to find these functions); but feel free to use something else]"
   ]
  },
  {
   "cell_type": "code",
   "execution_count": 10,
   "metadata": {
    "deletable": false,
    "nbgrader": {
     "checksum": "b103cd98545261b20f937f4b9db67f68",
     "grade": true,
     "grade_id": "cell-f9193bf8e71f1a9a",
     "locked": false,
     "points": 0.5,
     "schema_version": 1,
     "solution": true
    }
   },
   "outputs": [
    {
     "data": {
      "text/plain": [
       "<matplotlib.collections.LineCollection at 0x1d651b627f0>"
      ]
     },
     "execution_count": 10,
     "metadata": {},
     "output_type": "execute_result"
    },
    {
     "data": {
      "image/png": "[encoded data removed]",
      "text/plain": [
       "<matplotlib.figure.Figure at 0x1d651b62c50>"
      ]
     },
     "metadata": {},
     "output_type": "display_data"
    }
   ],
   "source": [
    "plt.hist(df_after_merger['P'])\n",
    "plt.xlabel('Price')\n",
    "plt.vlines(x=P0,ymin=0,ymax=14)"
   ]
  },
  {
   "cell_type": "markdown",
   "metadata": {},
   "source": [
    "#### f) [0.5 points] Explain why sometimes the equilibrium price after the merger exceeds the equilibrium price before the merger and sometimes it is lower than the pre-merger price. [hint: there is a trade off between two effects, depending on which effect dominates, equilibrium price increases or decreases after the merger]"
   ]
  },
  {
   "cell_type": "markdown",
   "metadata": {
    "deletable": false,
    "nbgrader": {
     "checksum": "dd9fc721b7cf7f66587e93cbfb758034",
     "grade": true,
     "grade_id": "cell-7a1f367cd2854156",
     "locked": false,
     "points": 0.5,
     "schema_version": 1,
     "solution": true
    }
   },
   "source": [
    "If the firm's increase in market power dominates this will lead to a lower equilibrium price than the original equilibrium. If the increase in quantity dominates then the price will increase to beyond the original equilibrium price."
   ]
  },
  {
   "cell_type": "markdown",
   "metadata": {
    "deletable": false,
    "editable": false,
    "nbgrader": {
     "checksum": "e1e41dbf14c605bf91cdc78f70eada99",
     "grade": false,
     "grade_id": "cell-06ed6044f8938a45",
     "locked": true,
     "schema_version": 1,
     "solution": false
    }
   },
   "source": [
    "#### g) [0.5 points] Make a graph with the Herfindahl index on the horizontal axis and the equilibrium price on the vertical axis. This is straightforward for $(H,P)$ after the merger as both values are in the dataframe. Add in another color, the pre-merger combination `(H0,P0)` that we calculated above."
   ]
  },
  {
   "cell_type": "code",
   "execution_count": 11,
   "metadata": {
    "deletable": false,
    "nbgrader": {
     "checksum": "51cfaacbaf533e85d9794bc74712afd5",
     "grade": true,
     "grade_id": "cell-d647464d04870b73",
     "locked": false,
     "points": 0.5,
     "schema_version": 1,
     "solution": true
    }
   },
   "outputs": [
    {
     "data": {
      "text/plain": [
       "<matplotlib.legend.Legend at 0x1d652080b00>"
      ]
     },
     "execution_count": 11,
     "metadata": {},
     "output_type": "execute_result"
    },
    {
     "data": {
      "image/png": "[encoded data removed]",
      "text/plain": [
       "<matplotlib.figure.Figure at 0x1d651df9550>"
      ]
     },
     "metadata": {},
     "output_type": "display_data"
    }
   ],
   "source": [
    "plt.scatter(df_after_merger['H'],df_after_merger['P'],label='Relationship Between Price and Herfindahl Index')\n",
    "plt.scatter(H0,P0,label='Original Price and Herfindahl Index')\n",
    "plt.xlabel('Herfindahl index')\n",
    "plt.ylabel('Price')\n",
    "plt.legend()\n"
   ]
  },
  {
   "cell_type": "markdown",
   "metadata": {
    "deletable": false,
    "editable": false,
    "nbgrader": {
     "checksum": "11b6609131b1c25886f2c6cafe0f7a59",
     "grade": false,
     "grade_id": "cell-5c5e5776a7c135a2",
     "locked": true,
     "schema_version": 1,
     "solution": false
    }
   },
   "source": [
    "#### h) [0.5 points] Use the graph under g) to discuss the relation between the Herfindahl index and the equilibrium price. To illustrate, some people think that lower values of the Herfindahl index are associated with more competitive outcome. Would you agree with this?"
   ]
  },
  {
   "cell_type": "markdown",
   "metadata": {
    "collapsed": true,
    "deletable": false,
    "nbgrader": {
     "checksum": "3d396887dde3b00420c623b9f4ea8ed2",
     "grade": true,
     "grade_id": "cell-cbd89d483b23a953",
     "locked": false,
     "points": 0.5,
     "schema_version": 1,
     "solution": true
    }
   },
   "source": [
    "The graph in G shows that a higher Herfindahl index correlates with a lower equilibrium price. I would argue that a lower Herfindahl index does not correlate to a more competitive market outcome, because in a competitive market, the price would be driven down by firms due to the high competition. In this case, a lower Herfindahl index correlates to higher prices, contradicting the issued statement."
   ]
  },
  {
   "cell_type": "markdown",
   "metadata": {},
   "source": [
    "## Github\n",
    "\n",
    "After you have finished, we need to upload this notebook on github. Make sure that you upload the file on the github page of each collaborator."
   ]
  },
  {
   "cell_type": "markdown",
   "metadata": {},
   "source": [
    "Instructions on how to upload this on github can be found [on this page](http://janboone.github.io/programming-for-economists/github.html). This page has two screencasts: one shows how to drag the notebook onto your github page, the other shows how you can use the command line to upload your notebook.\n"
   ]
  },
  {
   "cell_type": "markdown",
   "metadata": {},
   "source": [
    "Remember to update the README file in your repository to include a link to this notebook on github.\n",
    "\n",
    "\n",
    "The links that you should post start with “github.com/” and are NOT of the form “http://localhost”. Make sure you test your links after uploading."
   ]
  },
  {
   "cell_type": "code",
   "execution_count": null,
   "metadata": {},
   "outputs": [],
   "source": []
  }
 ],
 "metadata": {
  "anaconda-cloud": {},
  "kernelspec": {
   "display_name": "Python 3",
   "language": "python",
   "name": "python3"
  },
  "language_info": {
   "codemirror_mode": {
    "name": "ipython",
    "version": 3
   },
   "file_extension": ".py",
   "mimetype": "text/x-python",
   "name": "python",
   "nbconvert_exporter": "python",
   "pygments_lexer": "ipython3",
   "version": "3.6.4"
  }
 },
 "nbformat": 4,
 "nbformat_minor": 1
}
